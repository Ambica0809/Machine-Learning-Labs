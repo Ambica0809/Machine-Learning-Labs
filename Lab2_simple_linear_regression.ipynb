{
  "nbformat": 4,
  "nbformat_minor": 0,
  "metadata": {
    "colab": {
      "name": "Lab2_simple linear regression.ipynb",
      "provenance": []
    },
    "kernelspec": {
      "name": "python3",
      "display_name": "Python 3"
    },
    "language_info": {
      "name": "python"
    }
  },
  "cells": [
    {
      "cell_type": "markdown",
      "source": [
        "### A.\tFor the given dataset, obtain the best fit line, obtain SSE, SST and SSR values, calculate the r-squared value and r value\n",
        "### i.\tPerform the above task using LinearRegression() from sklearn\n",
        "### ii.\tWithout using the built in function (Using the formula)\n",
        "### iii.\tPlot the regression line using appropriate visualization tool\n",
        "\n",
        "\n",
        "\n",
        "\n"
      ],
      "metadata": {
        "id": "pF9GyO_FbUoP"
      }
    },
    {
      "cell_type": "code",
      "source": [
        "#import all the packages\n",
        "import numpy as np\n",
        "from sklearn.linear_model import LinearRegression\n",
        "import pandas as pd\n",
        "import matplotlib.pyplot as plt\n",
        "import warnings \n",
        "warnings.filterwarnings('ignore')"
      ],
      "metadata": {
        "id": "4-_rHG-2bsy7"
      },
      "execution_count": null,
      "outputs": []
    },
    {
      "cell_type": "code",
      "source": [
        "df= pd.read_excel('/content/LAB2_MAchine learning.xlsx')"
      ],
      "metadata": {
        "id": "ILow7TJad6eQ"
      },
      "execution_count": null,
      "outputs": []
    },
    {
      "cell_type": "code",
      "source": [
        "print(df)"
      ],
      "metadata": {
        "colab": {
          "base_uri": "https://localhost:8080/"
        },
        "id": "LB1E8lTOeLMW",
        "outputId": "eb85aae3-0e92-4c9b-83a7-65bcc4711624"
      },
      "execution_count": null,
      "outputs": [
        {
          "output_type": "stream",
          "name": "stdout",
          "text": [
            "   Hours  Marks\n",
            "0      5      9\n",
            "1      7     11\n",
            "2     12     18\n",
            "3      9     15\n",
            "4      2      5\n",
            "5      4      7\n"
          ]
        }
      ]
    },
    {
      "cell_type": "code",
      "source": [
        "#plot a scatter plot\n",
        "plt.xlabel(\"Hours\")\n",
        "plt.ylabel(\"Marks\")\n",
        "plt.scatter(df.Hours, df.Marks, marker = \"+\")\n"
      ],
      "metadata": {
        "colab": {
          "base_uri": "https://localhost:8080/",
          "height": 296
        },
        "id": "LWfwYzW-ehJM",
        "outputId": "93c08017-0c9c-4350-d14c-a819547e34ce"
      },
      "execution_count": null,
      "outputs": [
        {
          "output_type": "execute_result",
          "data": {
            "text/plain": [
              "<matplotlib.collections.PathCollection at 0x7f8ddb335c10>"
            ]
          },
          "metadata": {},
          "execution_count": 12
        },
        {
          "output_type": "display_data",
          "data": {
            "image/png": "[encoded data removed]",
            "text/plain": [
              "<Figure size 432x288 with 1 Axes>"
            ]
          },
          "metadata": {
            "needs_background": "light"
          }
        }
      ]
    },
    {
      "cell_type": "code",
      "source": [
        "x = df[[\"Hours\"]]\n",
        "y = df[[\"Marks\"]]"
      ],
      "metadata": {
        "id": "Z0r-tmvgfRn9"
      },
      "execution_count": null,
      "outputs": []
    },
    {
      "cell_type": "code",
      "source": [
        "#Create linear regression model\n",
        "model = LinearRegression()\n",
        "model.fit(x,y)\n",
        "#fit data in the model\n"
      ],
      "metadata": {
        "colab": {
          "base_uri": "https://localhost:8080/"
        },
        "id": "mJdfWhQvfdy1",
        "outputId": "62a68ee5-c8a5-47f7-984e-aee446f02993"
      },
      "execution_count": null,
      "outputs": [
        {
          "output_type": "execute_result",
          "data": {
            "text/plain": [
              "LinearRegression()"
            ]
          },
          "metadata": {},
          "execution_count": 14
        }
      ]
    },
    {
      "cell_type": "code",
      "source": [
        "#print the results\n",
        "#coefficient of determination(R2)\n",
        "r_sq = model.score(x,y)\n",
        "print(\"r^2= \",r_sq)"
      ],
      "metadata": {
        "colab": {
          "base_uri": "https://localhost:8080/"
        },
        "id": "Hu9eeA5Bfp1W",
        "outputId": "a0d934c9-2c8e-447b-a38e-3d353b9bc106"
      },
      "execution_count": null,
      "outputs": [
        {
          "output_type": "stream",
          "name": "stdout",
          "text": [
            "r^2=  0.9895972624374836\n"
          ]
        }
      ]
    },
    {
      "cell_type": "code",
      "source": [
        "#the attributes of model are .intercept_ ,which represents the coefficient, b0\n",
        "#and .coef_,which represents b1\n",
        "\n",
        "print('intercept: ',model.intercept_)\n",
        "print('slope: ', model.coef_)"
      ],
      "metadata": {
        "colab": {
          "base_uri": "https://localhost:8080/"
        },
        "id": "y2JTa2Lmg0w8",
        "outputId": "c0fc9fb1-ec7a-481a-f74b-90e8f709d74a"
      },
      "execution_count": null,
      "outputs": [
        {
          "output_type": "stream",
          "name": "stdout",
          "text": [
            "intercept:  [2.05089059]\n",
            "slope:  [[1.35114504]]\n"
          ]
        }
      ]
    },
    {
      "cell_type": "code",
      "source": [
        "#make prediction fro x = 10 hours\n",
        "model.predict([[10]])"
      ],
      "metadata": {
        "colab": {
          "base_uri": "https://localhost:8080/"
        },
        "id": "FFHPPPKYhoBy",
        "outputId": "92d4ceb9-2bbb-449b-cd0d-22f1c1282288"
      },
      "execution_count": null,
      "outputs": [
        {
          "output_type": "execute_result",
          "data": {
            "text/plain": [
              "array([[15.56234097]])"
            ]
          },
          "metadata": {},
          "execution_count": 17
        }
      ]
    },
    {
      "cell_type": "code",
      "source": [
        "#make prediction for all the values of x\n",
        "yPred = model.predict(x)\n",
        "print(yPred)"
      ],
      "metadata": {
        "colab": {
          "base_uri": "https://localhost:8080/"
        },
        "id": "5gnJD8xyiYZ-",
        "outputId": "8323d8c8-49ff-48df-f0f0-0dd52be1c3aa"
      },
      "execution_count": null,
      "outputs": [
        {
          "output_type": "stream",
          "name": "stdout",
          "text": [
            "[[ 8.80661578]\n",
            " [11.50890585]\n",
            " [18.26463104]\n",
            " [14.21119593]\n",
            " [ 4.75318066]\n",
            " [ 7.45547074]]\n"
          ]
        }
      ]
    },
    {
      "cell_type": "code",
      "source": [
        "df['marksPred'] = yPred \n",
        "#addd this column to data frame"
      ],
      "metadata": {
        "id": "jZj2VX5tjSuR"
      },
      "execution_count": null,
      "outputs": []
    },
    {
      "cell_type": "code",
      "source": [
        "print(df)"
      ],
      "metadata": {
        "colab": {
          "base_uri": "https://localhost:8080/"
        },
        "id": "IzJThePeku_T",
        "outputId": "4d27ad8b-2946-4c05-a3b6-bcaa82e949b8"
      },
      "execution_count": null,
      "outputs": [
        {
          "output_type": "stream",
          "name": "stdout",
          "text": [
            "   Hours  Marks  marksPred\n",
            "0      5      9   8.806616\n",
            "1      7     11  11.508906\n",
            "2     12     18  18.264631\n",
            "3      9     15  14.211196\n",
            "4      2      5   4.753181\n",
            "5      4      7   7.455471\n"
          ]
        }
      ]
    },
    {
      "cell_type": "code",
      "source": [
        "#%matplotlib inline\n",
        "plt.xlabel(\"Hours\")\n",
        "plt.ylabel(\"Marks\")\n",
        "plt.scatter(df.Hours,df.Marks,color = \"green\", marker = \"+\")\n",
        "plt.plot(df.Hours, df.marksPred, color = 'red')"
      ],
      "metadata": {
        "colab": {
          "base_uri": "https://localhost:8080/",
          "height": 296
        },
        "id": "cV0Ukm89kyPA",
        "outputId": "0baa0c21-ca56-4231-f5bc-e065c97ce9b0"
      },
      "execution_count": null,
      "outputs": [
        {
          "output_type": "execute_result",
          "data": {
            "text/plain": [
              "[<matplotlib.lines.Line2D at 0x7f8ddb1c2fd0>]"
            ]
          },
          "metadata": {},
          "execution_count": 22
        },
        {
          "output_type": "display_data",
          "data": {
            "image/png": "[encoded data removed]",
            "text/plain": [
              "<Figure size 432x288 with 1 Axes>"
            ]
          },
          "metadata": {
            "needs_background": "light"
          }
        }
      ]
    },
    {
      "cell_type": "code",
      "source": [
        "import statsmodels.api as sm\n",
        "x=sm.add_constant(x)\n",
        "model= sm.OLS(y,x).fit()"
      ],
      "metadata": {
        "id": "xsiykJxBlt7s"
      },
      "execution_count": null,
      "outputs": []
    },
    {
      "cell_type": "code",
      "source": [
        "#calculate sse\n",
        "sse = np.sum((model.fittedvalues - df.Marks)**2)\n",
        "print(sse)"
      ],
      "metadata": {
        "colab": {
          "base_uri": "https://localhost:8080/"
        },
        "id": "injulJs-oLBL",
        "outputId": "c77c3487-a6ad-4528-850c-2f18097c75b1"
      },
      "execution_count": null,
      "outputs": [
        {
          "output_type": "stream",
          "name": "stdout",
          "text": [
            "1.2569974554707404\n"
          ]
        }
      ]
    },
    {
      "cell_type": "code",
      "source": [
        "#calculate ssr\n",
        "ssr = np.sum((model.fittedvalues - df.Marks.mean())**2)\n",
        "print(ssr)"
      ],
      "metadata": {
        "colab": {
          "base_uri": "https://localhost:8080/"
        },
        "id": "Wub286TqoPZw",
        "outputId": "d2fb0731-38ef-4bb0-8cd4-c3acf9c379e3"
      },
      "execution_count": null,
      "outputs": [
        {
          "output_type": "stream",
          "name": "stdout",
          "text": [
            "119.5763358778627\n"
          ]
        }
      ]
    },
    {
      "cell_type": "code",
      "source": [
        "#calculate sst\n",
        "sst = ssr + sse\n",
        "print(sst)"
      ],
      "metadata": {
        "colab": {
          "base_uri": "https://localhost:8080/"
        },
        "id": "eCpdeAVXoReT",
        "outputId": "85986dd3-4bee-4606-bc2b-42d4137d5aaa"
      },
      "execution_count": null,
      "outputs": [
        {
          "output_type": "stream",
          "name": "stdout",
          "text": [
            "120.83333333333344\n"
          ]
        }
      ]
    },
    {
      "cell_type": "code",
      "source": [
        "xMean= df['Hours'].mean()\n",
        "yMean= df[\"Marks\"].mean()\n",
        "print(\"xMean= \", xMean)\n",
        "print(\"yMean= \", yMean)"
      ],
      "metadata": {
        "colab": {
          "base_uri": "https://localhost:8080/"
        },
        "id": "6BQm7O8hshok",
        "outputId": "dad3a855-d3ec-4e9f-a1d6-8ad2b90ea997"
      },
      "execution_count": null,
      "outputs": [
        {
          "output_type": "stream",
          "name": "stdout",
          "text": [
            "xMean=  6.5\n",
            "yMean=  10.833333333333334\n"
          ]
        }
      ]
    },
    {
      "cell_type": "code",
      "source": [
        "df[\"xi-xMean\"]= df[[\"Hours\"]]-xMean\n",
        "df[\"yi-yMean\"]= df[[\"Marks\"]]-yMean\n",
        "print(df)"
      ],
      "metadata": {
        "colab": {
          "base_uri": "https://localhost:8080/"
        },
        "id": "eEqgkVbVslKw",
        "outputId": "f4d3e7ce-ff0c-42ea-fdaf-93f9beb9be2f"
      },
      "execution_count": null,
      "outputs": [
        {
          "output_type": "stream",
          "name": "stdout",
          "text": [
            "   Hours  Marks  marksPred  xi-xMean  yi-yMean\n",
            "0      5      9   8.806616      -1.5 -1.833333\n",
            "1      7     11  11.508906       0.5  0.166667\n",
            "2     12     18  18.264631       5.5  7.166667\n",
            "3      9     15  14.211196       2.5  4.166667\n",
            "4      2      5   4.753181      -4.5 -5.833333\n",
            "5      4      7   7.455471      -2.5 -3.833333\n"
          ]
        }
      ]
    },
    {
      "cell_type": "code",
      "source": [
        "df[\"(xi-xMean)^2\"]= df[[\"xi-xMean\"]]**2\n",
        "df[\"(xi-xMean)(yi-yMean)\"]= df[\"xi-xMean\"]*df[\"yi-yMean\"]\n",
        "print(df)"
      ],
      "metadata": {
        "colab": {
          "base_uri": "https://localhost:8080/"
        },
        "id": "GlY6v_D7slsN",
        "outputId": "cd619850-b041-4856-f2e7-8e6beb832a3f"
      },
      "execution_count": null,
      "outputs": [
        {
          "output_type": "stream",
          "name": "stdout",
          "text": [
            "   Hours  Marks  marksPred  ...  yi-yMean  (xi-xMean)^2  (xi-xMean)(yi-yMean)\n",
            "0      5      9   8.806616  ... -1.833333          2.25              2.750000\n",
            "1      7     11  11.508906  ...  0.166667          0.25              0.083333\n",
            "2     12     18  18.264631  ...  7.166667         30.25             39.416667\n",
            "3      9     15  14.211196  ...  4.166667          6.25             10.416667\n",
            "4      2      5   4.753181  ... -5.833333         20.25             26.250000\n",
            "5      4      7   7.455471  ... -3.833333          6.25              9.583333\n",
            "\n",
            "[6 rows x 7 columns]\n"
          ]
        }
      ]
    },
    {
      "cell_type": "code",
      "source": [
        "df[\"(xi-xMean)(yi-yMean)\"].sum()"
      ],
      "metadata": {
        "colab": {
          "base_uri": "https://localhost:8080/"
        },
        "id": "zdenec2csnla",
        "outputId": "d8138564-3f1e-4c93-c8ee-2f8a2adcbace"
      },
      "execution_count": null,
      "outputs": [
        {
          "output_type": "execute_result",
          "data": {
            "text/plain": [
              "88.5"
            ]
          },
          "metadata": {},
          "execution_count": 30
        }
      ]
    }
  ]
}