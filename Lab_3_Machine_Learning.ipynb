{
  "nbformat": 4,
  "nbformat_minor": 0,
  "metadata": {
    "colab": {
      "name": "Lab 3_Machine Learning.ipynb",
      "provenance": []
    },
    "kernelspec": {
      "name": "python3",
      "display_name": "Python 3"
    },
    "language_info": {
      "name": "python"
    }
  },
  "cells": [
    {
      "cell_type": "code",
      "execution_count": null,
      "metadata": {
        "colab": {
          "base_uri": "https://localhost:8080/"
        },
        "id": "n0QZJcNOU3-B",
        "outputId": "b2bbb995-7443-442c-a36a-3218c9a15d07"
      },
      "outputs": [
        {
          "output_type": "stream",
          "name": "stderr",
          "text": [
            "/usr/local/lib/python3.7/dist-packages/statsmodels/tools/_testing.py:19: FutureWarning: pandas.util.testing is deprecated. Use the functions in the public API at pandas.testing instead.\n",
            "  import pandas.util.testing as tm\n"
          ]
        }
      ],
      "source": [
        "import pandas as pd\n",
        "import matplotlib.pyplot as plt\n",
        "import numpy as np\n",
        "import statsmodels.api as sm\n",
        "from sklearn.linear_model import LinearRegression"
      ]
    },
    {
      "cell_type": "code",
      "source": [
        "df= pd.read_csv(\"/content/EmpRate.csv\") #read the csv file"
      ],
      "metadata": {
        "id": "7agb1cB9V6Ir"
      },
      "execution_count": null,
      "outputs": []
    },
    {
      "cell_type": "code",
      "source": [
        "df.axes"
      ],
      "metadata": {
        "colab": {
          "base_uri": "https://localhost:8080/"
        },
        "id": "oVTD5uo4V69g",
        "outputId": "32570922-6936-4822-fe1a-d9d57250d050"
      },
      "execution_count": null,
      "outputs": [
        {
          "output_type": "execute_result",
          "data": {
            "text/plain": [
              "[RangeIndex(start=0, stop=41, step=1),\n",
              " Index(['Employment rate', 'Life satisfaction'], dtype='object')]"
            ]
          },
          "metadata": {},
          "execution_count": 5
        }
      ]
    },
    {
      "cell_type": "code",
      "source": [
        "print(df)"
      ],
      "metadata": {
        "colab": {
          "base_uri": "https://localhost:8080/"
        },
        "id": "WSfk7sR5XCSi",
        "outputId": "459666eb-362c-4fd9-e65b-1a4970b831f8"
      },
      "execution_count": null,
      "outputs": [
        {
          "output_type": "stream",
          "name": "stdout",
          "text": [
            "    Employment rate  Life satisfaction\n",
            "0                73                7.3\n",
            "1                72                7.1\n",
            "2                63                6.9\n",
            "3                73                7.4\n",
            "4                63                6.5\n",
            "5                67                6.3\n",
            "6                74                6.7\n",
            "7                74                7.6\n",
            "8                74                5.7\n",
            "9                70                7.6\n",
            "10               65                6.5\n",
            "11               75                7.0\n",
            "12               53                5.4\n",
            "13               68                5.6\n",
            "14               86                7.5\n",
            "15               67                7.0\n",
            "16               69                7.2\n",
            "17               58                6.0\n",
            "18               75                5.9\n",
            "19               67                5.9\n",
            "20               70                5.9\n",
            "21               70                5.9\n",
            "22               66                6.9\n",
            "23               61                6.5\n",
            "24               76                7.4\n",
            "25               77                7.3\n",
            "26               74                7.6\n",
            "27               66                6.1\n",
            "28               68                5.4\n",
            "29               66                6.2\n",
            "30               69                5.9\n",
            "31               62                6.3\n",
            "32               77                7.3\n",
            "33               80                7.5\n",
            "34               52                5.5\n",
            "35               75                6.8\n",
            "36               70                6.9\n",
            "37               68                6.5\n",
            "38               61                6.4\n",
            "39               70                5.8\n",
            "40               43                4.7\n"
          ]
        }
      ]
    },
    {
      "cell_type": "code",
      "source": [
        "avgEmpRate=df[df[\"Employment rate\"]!= \"..\"].mean()"
      ],
      "metadata": {
        "id": "fa5DSxKWXFHv"
      },
      "execution_count": null,
      "outputs": []
    },
    {
      "cell_type": "code",
      "source": [
        "print(avgEmpRate)"
      ],
      "metadata": {
        "colab": {
          "base_uri": "https://localhost:8080/"
        },
        "id": "X4MtdRiDXWOk",
        "outputId": "e1a02d25-a307-4b99-e2d8-b7998e97fd55"
      },
      "execution_count": null,
      "outputs": [
        {
          "output_type": "stream",
          "name": "stdout",
          "text": [
            "Employment rate      68.463415\n",
            "Life satisfaction     6.534146\n",
            "dtype: float64\n"
          ]
        }
      ]
    },
    {
      "cell_type": "code",
      "source": [
        "x=df[[\"Employment rate\"]]\n",
        "y=df[[\"Life satisfaction\"]]"
      ],
      "metadata": {
        "id": "FupbkpuNYwhb"
      },
      "execution_count": null,
      "outputs": []
    },
    {
      "cell_type": "code",
      "source": [
        "model= LinearRegression()\n",
        "model.fit(x,y) "
      ],
      "metadata": {
        "colab": {
          "base_uri": "https://localhost:8080/"
        },
        "id": "pupKsdc5YxOU",
        "outputId": "c91f431f-ac2b-41dd-f6c5-b938243e452e"
      },
      "execution_count": null,
      "outputs": [
        {
          "output_type": "execute_result",
          "data": {
            "text/plain": [
              "LinearRegression()"
            ]
          },
          "metadata": {},
          "execution_count": 10
        }
      ]
    },
    {
      "cell_type": "code",
      "source": [
        "print(\"r_squared value is \", model.score(x,y))"
      ],
      "metadata": {
        "colab": {
          "base_uri": "https://localhost:8080/"
        },
        "id": "i7Ua9KaaZgrg",
        "outputId": "790c49ce-0805-495a-a1ba-238b15ce8cc2"
      },
      "execution_count": null,
      "outputs": [
        {
          "output_type": "stream",
          "name": "stdout",
          "text": [
            "r_squared value is  0.4417812120208363\n"
          ]
        }
      ]
    },
    {
      "cell_type": "code",
      "source": [
        "b0= model.intercept_\n",
        "b1= model.coef_\n",
        "print(\" Equation of the regression line is y_est= {} + {}*x\".format(b0,b1))"
      ],
      "metadata": {
        "colab": {
          "base_uri": "https://localhost:8080/"
        },
        "id": "e2o9cOyLZhVE",
        "outputId": "31aa5298-6e88-4f3c-fb3c-9cb934614bc1"
      },
      "execution_count": null,
      "outputs": [
        {
          "output_type": "stream",
          "name": "stdout",
          "text": [
            " Equation of the regression line is y_est= [2.23960101] + [[0.06272759]]*x\n"
          ]
        }
      ]
    },
    {
      "cell_type": "code",
      "source": [
        "yEst= model.predict(x)"
      ],
      "metadata": {
        "id": "jO7C_UfCZjYf"
      },
      "execution_count": null,
      "outputs": []
    },
    {
      "cell_type": "code",
      "source": [
        "plt.scatter(x,y,color=\"orange\")\n",
        "plt.plot(x,yEst,\"r\",color=\"Blue\")\n",
        "plt.xlabel(\"Employment rate\")\n",
        "plt.ylabel(\"Life satisfaction value\")"
      ],
      "metadata": {
        "colab": {
          "base_uri": "https://localhost:8080/",
          "height": 296
        },
        "id": "sBuQtxGFZlGt",
        "outputId": "1430383e-d33f-4160-de03-e8668efc600a"
      },
      "execution_count": null,
      "outputs": [
        {
          "output_type": "execute_result",
          "data": {
            "text/plain": [
              "Text(0, 0.5, 'Life satisfaction value')"
            ]
          },
          "metadata": {},
          "execution_count": 14
        },
        {
          "output_type": "display_data",
          "data": {
            "image/png": "[encoded data removed]",
            "text/plain": [
              "<Figure size 432x288 with 1 Axes>"
            ]
          },
          "metadata": {
            "needs_background": "light"
          }
        }
      ]
    },
    {
      "cell_type": "code",
      "source": [
        "x = sm.add_constant(x)"
      ],
      "metadata": {
        "id": "ob0yOhYJZn_0"
      },
      "execution_count": null,
      "outputs": []
    },
    {
      "cell_type": "code",
      "source": [
        "modelNew = sm.OLS(y, x) \n",
        "fitted = modelNew.fit()"
      ],
      "metadata": {
        "id": "hjHBQPQKZrdn"
      },
      "execution_count": null,
      "outputs": []
    },
    {
      "cell_type": "code",
      "source": [
        "fitted.summary()"
      ],
      "metadata": {
        "colab": {
          "base_uri": "https://localhost:8080/",
          "height": 444
        },
        "id": "WcXWk7_OZsyT",
        "outputId": "4240a218-8dd2-4939-a0e2-700f6683a295"
      },
      "execution_count": null,
      "outputs": [
        {
          "output_type": "execute_result",
          "data": {
            "text/html": [
              "<table class=\"simpletable\">\n",
              "<caption>OLS Regression Results</caption>\n",
              "<tr>\n",
              "  <th>Dep. Variable:</th>    <td>Life satisfaction</td> <th>  R-squared:         </th> <td>   0.442</td>\n",
              "</tr>\n",
              "<tr>\n",
              "  <th>Model:</th>                   <td>OLS</td>        <th>  Adj. R-squared:    </th> <td>   0.427</td>\n",
              "</tr>\n",
              "<tr>\n",
              "  <th>Method:</th>             <td>Least Squares</td>   <th>  F-statistic:       </th> <td>   30.87</td>\n",
              "</tr>\n",
              "<tr>\n",
              "  <th>Date:</th>             <td>Sun, 09 Jan 2022</td>  <th>  Prob (F-statistic):</th> <td>2.14e-06</td>\n",
              "</tr>\n",
              "<tr>\n",
              "  <th>Time:</th>                 <td>17:45:07</td>      <th>  Log-Likelihood:    </th> <td> -33.530</td>\n",
              "</tr>\n",
              "<tr>\n",
              "  <th>No. Observations:</th>      <td>    41</td>       <th>  AIC:               </th> <td>   71.06</td>\n",
              "</tr>\n",
              "<tr>\n",
              "  <th>Df Residuals:</th>          <td>    39</td>       <th>  BIC:               </th> <td>   74.49</td>\n",
              "</tr>\n",
              "<tr>\n",
              "  <th>Df Model:</th>              <td>     1</td>       <th>                     </th>     <td> </td>   \n",
              "</tr>\n",
              "<tr>\n",
              "  <th>Covariance Type:</th>      <td>nonrobust</td>     <th>                     </th>     <td> </td>   \n",
              "</tr>\n",
              "</table>\n",
              "<table class=\"simpletable\">\n",
              "<tr>\n",
              "         <td></td>            <th>coef</th>     <th>std err</th>      <th>t</th>      <th>P>|t|</th>  <th>[0.025</th>    <th>0.975]</th>  \n",
              "</tr>\n",
              "<tr>\n",
              "  <th>const</th>           <td>    2.2396</td> <td>    0.778</td> <td>    2.879</td> <td> 0.006</td> <td>    0.666</td> <td>    3.813</td>\n",
              "</tr>\n",
              "<tr>\n",
              "  <th>Employment rate</th> <td>    0.0627</td> <td>    0.011</td> <td>    5.556</td> <td> 0.000</td> <td>    0.040</td> <td>    0.086</td>\n",
              "</tr>\n",
              "</table>\n",
              "<table class=\"simpletable\">\n",
              "<tr>\n",
              "  <th>Omnibus:</th>       <td> 2.716</td> <th>  Durbin-Watson:     </th> <td>   1.719</td>\n",
              "</tr>\n",
              "<tr>\n",
              "  <th>Prob(Omnibus):</th> <td> 0.257</td> <th>  Jarque-Bera (JB):  </th> <td>   2.476</td>\n",
              "</tr>\n",
              "<tr>\n",
              "  <th>Skew:</th>          <td>-0.525</td> <th>  Prob(JB):          </th> <td>   0.290</td>\n",
              "</tr>\n",
              "<tr>\n",
              "  <th>Kurtosis:</th>      <td> 2.409</td> <th>  Cond. No.          </th> <td>    611.</td>\n",
              "</tr>\n",
              "</table><br/><br/>Warnings:<br/>[1] Standard Errors assume that the covariance matrix of the errors is correctly specified."
            ],
            "text/plain": [
              "<class 'statsmodels.iolib.summary.Summary'>\n",
              "\"\"\"\n",
              "                            OLS Regression Results                            \n",
              "==============================================================================\n",
              "Dep. Variable:      Life satisfaction   R-squared:                       0.442\n",
              "Model:                            OLS   Adj. R-squared:                  0.427\n",
              "Method:                 Least Squares   F-statistic:                     30.87\n",
              "Date:                Sun, 09 Jan 2022   Prob (F-statistic):           2.14e-06\n",
              "Time:                        17:45:07   Log-Likelihood:                -33.530\n",
              "No. Observations:                  41   AIC:                             71.06\n",
              "Df Residuals:                      39   BIC:                             74.49\n",
              "Df Model:                           1                                         \n",
              "Covariance Type:            nonrobust                                         \n",
              "===================================================================================\n",
              "                      coef    std err          t      P>|t|      [0.025      0.975]\n",
              "-----------------------------------------------------------------------------------\n",
              "const               2.2396      0.778      2.879      0.006       0.666       3.813\n",
              "Employment rate     0.0627      0.011      5.556      0.000       0.040       0.086\n",
              "==============================================================================\n",
              "Omnibus:                        2.716   Durbin-Watson:                   1.719\n",
              "Prob(Omnibus):                  0.257   Jarque-Bera (JB):                2.476\n",
              "Skew:                          -0.525   Prob(JB):                        0.290\n",
              "Kurtosis:                       2.409   Cond. No.                         611.\n",
              "==============================================================================\n",
              "\n",
              "Warnings:\n",
              "[1] Standard Errors assume that the covariance matrix of the errors is correctly specified.\n",
              "\"\"\""
            ]
          },
          "metadata": {},
          "execution_count": 17
        }
      ]
    },
    {
      "cell_type": "code",
      "source": [
        "fitted.ssr"
      ],
      "metadata": {
        "colab": {
          "base_uri": "https://localhost:8080/"
        },
        "id": "9N9jG_AvZueT",
        "outputId": "24db8a5f-2b01-4607-ce5f-523002e422b0"
      },
      "execution_count": null,
      "outputs": [
        {
          "output_type": "execute_result",
          "data": {
            "text/plain": [
              "12.321114009015213"
            ]
          },
          "metadata": {},
          "execution_count": 18
        }
      ]
    },
    {
      "cell_type": "code",
      "source": [
        "sse = np.sum((fitted.fittedvalues - df[\"Life satisfaction\"])**2)\n",
        "print(\"SSE =\", sse)"
      ],
      "metadata": {
        "colab": {
          "base_uri": "https://localhost:8080/"
        },
        "id": "XJJxllsXZwAC",
        "outputId": "33a1e0aa-96a4-4af5-cb45-19919fe4b73d"
      },
      "execution_count": null,
      "outputs": [
        {
          "output_type": "stream",
          "name": "stdout",
          "text": [
            "SSE = 12.321114009015211\n"
          ]
        }
      ]
    },
    {
      "cell_type": "code",
      "source": [
        "ssr = np.sum((fitted.fittedvalues - df[\"Life satisfaction\"].mean())**2)\n",
        "print(\"SSR = \", ssr)"
      ],
      "metadata": {
        "colab": {
          "base_uri": "https://localhost:8080/"
        },
        "id": "d7C1UkAFZxcc",
        "outputId": "318a24b4-ed6b-471f-90a4-2e0b4d7bc43e"
      },
      "execution_count": null,
      "outputs": [
        {
          "output_type": "stream",
          "name": "stdout",
          "text": [
            "SSR =  9.751081112936006\n"
          ]
        }
      ]
    },
    {
      "cell_type": "code",
      "source": [
        "sst = ssr + sse\n",
        "print(\"SST = \", sst)"
      ],
      "metadata": {
        "colab": {
          "base_uri": "https://localhost:8080/"
        },
        "id": "q4O2zZoiZzFX",
        "outputId": "ad5bed9f-7cb2-4ce0-8437-ec48231ea8f9"
      },
      "execution_count": null,
      "outputs": [
        {
          "output_type": "stream",
          "name": "stdout",
          "text": [
            "SST =  22.072195121951218\n"
          ]
        }
      ]
    },
    {
      "cell_type": "code",
      "source": [
        "#msr value\n",
        "msr = ssr/1\n",
        "print(\"MSR=\",msr)"
      ],
      "metadata": {
        "colab": {
          "base_uri": "https://localhost:8080/"
        },
        "id": "BHlYXXLVZ0kg",
        "outputId": "c0535421-e36a-48f3-b89a-19a984021b46"
      },
      "execution_count": null,
      "outputs": [
        {
          "output_type": "stream",
          "name": "stdout",
          "text": [
            "MSR= 9.751081112936006\n"
          ]
        }
      ]
    },
    {
      "cell_type": "code",
      "source": [
        "size = df.size"
      ],
      "metadata": {
        "id": "HsjcDbTBbLdp"
      },
      "execution_count": null,
      "outputs": []
    },
    {
      "cell_type": "code",
      "source": [
        "#mse value\n",
        "mse = sse/(size-2)\n",
        "print(\"MSE=\",mse)"
      ],
      "metadata": {
        "colab": {
          "base_uri": "https://localhost:8080/"
        },
        "id": "Rax67rIAbNqD",
        "outputId": "65f1b9e8-07f2-43e7-a89b-14a019fcd029"
      },
      "execution_count": null,
      "outputs": [
        {
          "output_type": "stream",
          "name": "stdout",
          "text": [
            "MSE= 0.15401392511269013\n"
          ]
        }
      ]
    },
    {
      "cell_type": "code",
      "source": [
        "# T and F test\n",
        "ftest = msr/mse\n",
        "print(\"F test=\",ftest)"
      ],
      "metadata": {
        "colab": {
          "base_uri": "https://localhost:8080/"
        },
        "id": "yq314ZFpbSPh",
        "outputId": "36c23fcb-2229-432b-810c-0fe16c5aa680"
      },
      "execution_count": null,
      "outputs": [
        {
          "output_type": "stream",
          "name": "stdout",
          "text": [
            "F test= 63.3129835876935\n"
          ]
        }
      ]
    },
    {
      "cell_type": "code",
      "source": [
        "Ttest = np.sqrt(ftest)\n",
        "print(\"T test=\",Ttest)"
      ],
      "metadata": {
        "colab": {
          "base_uri": "https://localhost:8080/"
        },
        "id": "VggOG-EibrQg",
        "outputId": "6f9d6dda-e592-432c-9dc6-d929639d7fce"
      },
      "execution_count": null,
      "outputs": [
        {
          "output_type": "stream",
          "name": "stdout",
          "text": [
            "T test= 7.95694561924948\n"
          ]
        }
      ]
    },
    {
      "cell_type": "markdown",
      "source": [
        "Conclusion - After completing this experiment, I learned how to create a simple linear regression model using the linear regression function, how to create an ANOVA table, and how to use the T and F statistics to identify the relationship between the provided columns. Then I learned how to use functions like fit, score, intercept_, coef_, predict, and others to fit the model to our data and retrieve various values such as r squared, intercept, coefficient, and y. Then we can look at the regression findings and see what other parameters we can identify, such as SSR, SSE, SST, MSR, and MSE."
      ],
      "metadata": {
        "id": "XTz9HOU085Rf"
      }
    }
  ]
}